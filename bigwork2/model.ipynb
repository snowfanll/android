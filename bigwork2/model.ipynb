{
 "cells": [
  {
   "cell_type": "code",
   "execution_count": 2,
   "metadata": {},
   "outputs": [
    {
     "name": "stderr",
     "output_type": "stream",
     "text": [
      "ERROR:absl:module 'tensorflow_datasets.core' has no attribute 'utils'\n",
      "Traceback (most recent call last):\n",
      "  File \"d:\\software\\Anaconda3\\lib\\site-packages\\tensorflow_datasets\\__init__.py\", line 59, in <module>\n",
      "    from tensorflow_datasets import audio\n",
      "  File \"d:\\software\\Anaconda3\\lib\\site-packages\\tensorflow_datasets\\audio\\__init__.py\", line 19, in <module>\n",
      "    from tensorflow_datasets.audio.commonvoice import CommonVoice\n",
      "  File \"d:\\software\\Anaconda3\\lib\\site-packages\\tensorflow_datasets\\audio\\commonvoice.py\", line 27, in <module>\n",
      "    import tensorflow_datasets.public_api as tfds\n",
      "  File \"d:\\software\\Anaconda3\\lib\\site-packages\\tensorflow_datasets\\public_api.py\", line 57, in <module>\n",
      "    deprecated = core.utils.docs.deprecated(deprecated)\n",
      "AttributeError: module 'tensorflow_datasets.core' has no attribute 'utils'\n"
     ]
    }
   ],
   "source": [
    "import numpy as np\n",
    "import os\n",
    "\n",
    "from tflite_model_maker import model_spec\n",
    "from tflite_model_maker import text_classifier\n",
    "from tflite_model_maker.config import ExportFormat\n",
    "from tflite_model_maker.text_classifier import AverageWordVecSpec\n",
    "from tflite_model_maker.text_classifier import DataLoader\n",
    "\n",
    "import tensorflow as tf\n",
    "assert tf.__version__.startswith('2')\n",
    "tf.get_logger().setLevel('ERROR')"
   ]
  },
  {
   "cell_type": "markdown",
   "metadata": {},
   "source": [
    "###  MobileBERT"
   ]
  },
  {
   "cell_type": "code",
   "execution_count": 2,
   "metadata": {},
   "outputs": [],
   "source": [
    "# 加载模型\n",
    "mb_spec = model_spec.get('mobilebert_classifier')"
   ]
  },
  {
   "cell_type": "code",
   "execution_count": 3,
   "metadata": {},
   "outputs": [],
   "source": [
    "train_data = DataLoader.from_csv(\n",
    "      filename='train.csv',\n",
    "      text_column='sentence',\n",
    "      label_column='label',\n",
    "      model_spec=mb_spec,\n",
    "      is_training=True)\n",
    "test_data = DataLoader.from_csv(\n",
    "      filename='dev.csv',\n",
    "      text_column='sentence',\n",
    "      label_column='label',\n",
    "      model_spec=mb_spec,\n",
    "      is_training=False)"
   ]
  },
  {
   "cell_type": "code",
   "execution_count": 4,
   "metadata": {},
   "outputs": [
    {
     "name": "stdout",
     "output_type": "stream",
     "text": [
      "1403/1403 [==============================] - 9194s 7s/step - loss: 0.3904 - test_accuracy: 0.8542\n",
      "Epoch 2/2\n",
      "1403/1403 [==============================] - 8641s 6s/step - loss: 0.1283 - test_accuracy: 0.9544\n",
      "Epoch 3/3\n",
      "1403/1403 [==============================] - 8577s 6s/step - loss: 0.0753 - test_accuracy: 0.9760\n"
     ]
    }
   ],
   "source": [
    "# 训练模型\n",
    "model = text_classifier.create(train_data, model_spec=mb_spec, epochs=3)"
   ]
  },
  {
   "cell_type": "code",
   "execution_count": 5,
   "metadata": {},
   "outputs": [
    {
     "name": "stdout",
     "output_type": "stream",
     "text": [
      "Model: \"model\"\n",
      "__________________________________________________________________________________________________\n",
      " Layer (type)                   Output Shape         Param #     Connected to                     \n",
      "==================================================================================================\n",
      " input_word_ids (InputLayer)    [(None, 128)]        0           []                               \n",
      "                                                                                                  \n",
      " input_mask (InputLayer)        [(None, 128)]        0           []                               \n",
      "                                                                                                  \n",
      " input_type_ids (InputLayer)    [(None, 128)]        0           []                               \n",
      "                                                                                                  \n",
      " hub_keras_layer_v1v2 (HubKeras  (None, 512)         24581888    ['input_word_ids[0][0]',         \n",
      " LayerV1V2)                                                       'input_mask[0][0]',             \n",
      "                                                                  'input_type_ids[0][0]']         \n",
      "                                                                                                  \n",
      " dropout (Dropout)              (None, 512)          0           ['hub_keras_layer_v1v2[0][0]']   \n",
      "                                                                                                  \n",
      " output (Dense)                 (None, 2)            1026        ['dropout[0][0]']                \n",
      "                                                                                                  \n",
      "==================================================================================================\n",
      "Total params: 24,582,914\n",
      "Trainable params: 24,582,914\n",
      "Non-trainable params: 0\n",
      "__________________________________________________________________________________________________\n"
     ]
    }
   ],
   "source": [
    "# 检查详细的模型结构。\n",
    "model.summary()"
   ]
  },
  {
   "cell_type": "code",
   "execution_count": 6,
   "metadata": {},
   "outputs": [
    {
     "name": "stdout",
     "output_type": "stream",
     "text": [
      "28/28 [==============================] - 40s 1s/step - loss: 0.3856 - test_accuracy: 0.9014\n"
     ]
    }
   ],
   "source": [
    "# 评估模型\n",
    "loss, acc = model.evaluate(test_data)"
   ]
  },
  {
   "cell_type": "code",
   "execution_count": 7,
   "metadata": {},
   "outputs": [],
   "source": [
    "# 导出为 TensorFlow Lite 模型\n",
    "model.export(export_dir='.')"
   ]
  },
  {
   "cell_type": "code",
   "execution_count": null,
   "outputs": [],
   "source": [
    "# 使用 evaluate_tflite 方法对 TFLite 模型进行评估，以衡量其准确率。\n",
    "accuracy = model.evaluate_tflite('model.tflite', test_data)\n",
    "print('TFLite model accuracy: ', accuracy)"
   ],
   "metadata": {
    "collapsed": false
   }
  },
  {
   "cell_type": "code",
   "execution_count": null,
   "outputs": [],
   "source": [],
   "metadata": {
    "collapsed": false
   }
  }
 ],
 "metadata": {
  "kernelspec": {
   "display_name": "base",
   "language": "python",
   "name": "python3"
  },
  "language_info": {
   "codemirror_mode": {
    "name": "ipython",
    "version": 3
   },
   "file_extension": ".py",
   "mimetype": "text/x-python",
   "name": "python",
   "nbconvert_exporter": "python",
   "pygments_lexer": "ipython3",
   "version": "3.9.7"
  },
  "orig_nbformat": 4
 },
 "nbformat": 4,
 "nbformat_minor": 2
}
